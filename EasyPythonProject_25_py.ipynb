{
  "nbformat": 4,
  "nbformat_minor": 0,
  "metadata": {
    "colab": {
      "provenance": [],
      "authorship_tag": "ABX9TyODymCqaAsqLwesJVq+qDJG",
      "include_colab_link": true
    },
    "kernelspec": {
      "name": "python3",
      "display_name": "Python 3"
    },
    "language_info": {
      "name": "python"
    }
  },
  "cells": [
    {
      "cell_type": "markdown",
      "metadata": {
        "id": "view-in-github",
        "colab_type": "text"
      },
      "source": [
        "<a href=\"https://colab.research.google.com/github/Mibobo-o/Hotel-Management-System/blob/main/EasyPythonProject_25_py.ipynb\" target=\"_parent\"><img src=\"https://colab.research.google.com/assets/colab-badge.svg\" alt=\"Open In Colab\"/></a>"
      ]
    },
    {
      "cell_type": "markdown",
      "source": [
        "- 입력한 변수를 포함한 문자열 출력 방법 3가지\n",
        "- How to put string together"
      ],
      "metadata": {
        "id": "hUsmuClrFDYA"
      }
    },
    {
      "cell_type": "code",
      "source": [
        "#string concatenation (aka how to put string together)\n",
        "#Suppose we want to create a string that says \"subscribe to ____\"\n",
        "youtuber = \"minju\" #some string variable\n",
        "\n",
        "#a few mays to do this\n",
        "print(\"subscribe to \"+ youtuber)\n",
        "print(\"subscribe to {}\".format(youtuber))\n",
        "print(f\"subscribe to {youtuber}\")\n",
        "\n",
        "#참고\n",
        "print('subscribe to {youtuber}')\n"
      ],
      "metadata": {
        "colab": {
          "base_uri": "https://localhost:8080/"
        },
        "id": "OUJ8tFKcCupW",
        "outputId": "5d4507e5-4c57-422e-a851-b616ba5a99f6"
      },
      "execution_count": null,
      "outputs": [
        {
          "output_type": "stream",
          "name": "stdout",
          "text": [
            "subscribe to minju\n",
            "subscribe to minju\n",
            "subscribe to minju\n",
            "subscribe to {youtuber}\n"
          ]
        }
      ]
    },
    {
      "cell_type": "markdown",
      "source": [
        "#1. MADLIBS\n",
        "- 문장 사이에 문자열을 입력하는 게임\n",
        "- Input함수와 문자열 출력 함수를 알 수 있다.\n",
        "- 변수 지정도 가능"
      ],
      "metadata": {
        "id": "NtVPnUcFDgkf"
      }
    },
    {
      "cell_type": "code",
      "execution_count": null,
      "metadata": {
        "colab": {
          "base_uri": "https://localhost:8080/"
        },
        "id": "s9Wb-TvVzrt4",
        "outputId": "210e632e-72e6-4956-e8b1-3abf7a68e95a"
      },
      "outputs": [
        {
          "output_type": "stream",
          "name": "stdout",
          "text": [
            "Adjective: amazing\n",
            "verb1: skydive\n",
            "verb2: jump \n",
            "Famus person: Captain America\n",
            "Computer programming is so amazing! It makes me so excited all the time because \n",
            " I love to skydive. Stay hydrated and jump  like you are Captain America! \n"
          ]
        }
      ],
      "source": [
        "\n",
        "adj = input(\"Adjective: \")\n",
        "verb1 = input(\"verb1: \")\n",
        "verb2 = input(\"verb2: \")\n",
        "famus_person = input(\"Famus person: \")\n",
        "\n",
        "madlib = f\"Computer programming is so {adj}! It makes me so excited all the time because \\n \\\n",
        " I love to {verb1}. Stay hydrated and {verb2} like you are {famus_person}! \"\n",
        "\n",
        "print(madlib)"
      ]
    },
    {
      "cell_type": "markdown",
      "source": [
        "#2. Guess The Number (Computer)\n",
        "- 파이썬 랜덤 모듈(random module)을 다룰 수 있다.\n",
        "\n",
        "  ```\n",
        "  random.randint(a, b)\n",
        "  ```\n",
        "  -  return a random intager N such that a <= N <= b.\n",
        "  - Alias for randrange(a, b+i).\n",
        "  - docs.python.org > \"Function for integers\" 참고\n",
        "- 함수를 만들고 while문과 조건문을 다룰 수 있다.\n",
        "-  사용자 입력값을 받는 방법에 대해 배울 수 있다.\n"
      ],
      "metadata": {
        "id": "69Cy4xRfGLZ6"
      }
    },
    {
      "cell_type": "code",
      "source": [
        "import random #Python에서 같이 제공되는 패키지\n",
        "def guess(x): #guess 정의\n",
        "  random_number = random.randint(1, x)\n",
        "  guess = 0\n",
        "  while guess != random_number:\n",
        "    guess = int(input(f'Guess a number between 1 and {x}: '))\n",
        "    if guess < random_number:\n",
        "      print('Sorry, guess again. Too low')\n",
        "    elif guess > random_number:\n",
        "      print('Sorry, guess again. Too high.')\n",
        "\n",
        "  print(f'Yay, congrats. You have guessd the number {random_number} correctly. ')\n",
        "\n",
        "guess(10)"
      ],
      "metadata": {
        "colab": {
          "base_uri": "https://localhost:8080/"
        },
        "id": "EQYggv4NHJ6d",
        "outputId": "257b8116-4094-4fae-da79-2dc33099c3c1"
      },
      "execution_count": null,
      "outputs": [
        {
          "output_type": "stream",
          "name": "stdout",
          "text": [
            "Guess a number between 1 and 10: 5\n",
            "Sorry, guess again. Too low\n",
            "Guess a number between 1 and 10: 8\n",
            "Yay, congrats. You have guessd the number {random_number} correctly. \n"
          ]
        }
      ]
    },
    {
      "cell_type": "markdown",
      "source": [
        "#3. Guess The Number (User)\n",
        "\n",
        "- 컴퓨터가맞추는 역할\n",
        "\n"
      ],
      "metadata": {
        "id": "FQeFOS7YAM2P"
      }
    },
    {
      "cell_type": "code",
      "source": [
        "import random #Python에서 같이 제공되는 패키지l\n",
        "def computer_guess(x):\n",
        "  low = 1\n",
        "  high = x\n",
        "  feedback = ''\n",
        "  while feedback != 'c':\n",
        "    if low != high:\n",
        "     guess = random.randint(low, high) #low와 high 범위 내에 랜덤한 수를 추춯\n",
        "    else:\n",
        "      guess = low # could also be high b/c low/high\n",
        "    feedback = input(f'Is {guess} too high (H), too low (L), or correct (C)?? ').lower()\n",
        "    if feedback == 'h':\n",
        "      high = guess - 1\n",
        "    elif feedback == 'l':\n",
        "      low = guess + 1\n",
        "\n",
        "  print(f'Yay! The computer guessed your number, {guess}, correctly!')\n",
        "\n",
        "computer_guess(1000)\n",
        "\n"
      ],
      "metadata": {
        "colab": {
          "base_uri": "https://localhost:8080/"
        },
        "id": "YWdcNA0kAQpU",
        "outputId": "bba7163f-0848-4b09-e6a5-a671b125cbfb"
      },
      "execution_count": null,
      "outputs": [
        {
          "output_type": "stream",
          "name": "stdout",
          "text": [
            "Is 7 too high (H), too low (L), or correct (C)?? H\n",
            "Is 3 too high (H), too low (L), or correct (C)?? \n",
            "Is 4 too high (H), too low (L), or correct (C)?? L\n",
            "Is 5 too high (H), too low (L), or correct (C)?? L\n",
            "Is 6 too high (H), too low (L), or correct (C)?? C\n",
            "Yay! The computer guessed your number, 6, correctly!\n"
          ]
        }
      ]
    },
    {
      "cell_type": "markdown",
      "source": [
        "#4. Rock paper scissors"
      ],
      "metadata": {
        "id": "Qhkq4R7BAQAP"
      }
    },
    {
      "cell_type": "code",
      "source": [
        "import random\n",
        "\n",
        "def play():\n",
        "    user = input(\"What's your choice? 'r' for rock, 'p' for paper, 's' for scissors\\n\")\n",
        "    computer = random.choice(['r', 'p', 's']) #랜덤으로 초이스함\n",
        "\n",
        "    if user == computer:\n",
        "        return 'It\\'s a tie'\n",
        "\n",
        "    #r > s, s > p, p > r\n",
        "    if is_win(user, computer):\n",
        "        return 'You won!'\n",
        "    if is_win(computer, user):\n",
        "        return 'You lost!'\n",
        "\n",
        "def is_win(player, opponent):\n",
        "    #return ture if player wins\n",
        "    #r > s, s > p, p > r\n",
        "    if(player == 'r' and opponent == 's') or (player == 's' and opponent == 'p') \\\n",
        "        or (player == 'p' and opponent == 'r'):\n",
        "        return true\n",
        "\n",
        "\n",
        "print(play())"
      ],
      "metadata": {
        "id": "OQYkC0llAqnJ",
        "colab": {
          "base_uri": "https://localhost:8080/"
        },
        "outputId": "a93c5d86-3761-45b2-a7ed-2b492010d80e"
      },
      "execution_count": null,
      "outputs": [
        {
          "output_type": "stream",
          "name": "stdout",
          "text": [
            "What's your choice? 'r'for rock, 'p' for paper, 's' for scissors\n",
            "s\n",
            "It's a tie\n"
          ]
        }
      ]
    },
    {
      "cell_type": "markdown",
      "source": [
        "#5. Hangman"
      ],
      "metadata": {
        "id": "BRZog2LuArtM"
      }
    },
    {
      "cell_type": "code",
      "source": [
        "!pwd  # 현재 디렉토리 경로 출력\n"
      ],
      "metadata": {
        "colab": {
          "base_uri": "https://localhost:8080/"
        },
        "id": "35eWG9m75TSB",
        "outputId": "047a7de8-c887-4043-e954-ddfc55e4dacc"
      },
      "execution_count": 44,
      "outputs": [
        {
          "output_type": "stream",
          "name": "stdout",
          "text": [
            "/content\n"
          ]
        }
      ]
    },
    {
      "cell_type": "code",
      "source": [
        "!ls  # 현재 디렉토리의 파일 리스트 출력\n"
      ],
      "metadata": {
        "colab": {
          "base_uri": "https://localhost:8080/"
        },
        "id": "tGQT5k3W5WXB",
        "outputId": "5f1c8265-9d73-44fe-fd2e-66e2e6d0abd8"
      },
      "execution_count": 45,
      "outputs": [
        {
          "output_type": "stream",
          "name": "stdout",
          "text": [
            "drive  sample_data  words_py.py\n"
          ]
        }
      ]
    },
    {
      "cell_type": "code",
      "source": [
        "!mv words_py.py word.py #이름이 잘못입력 되어있어서 파일 이름 변경\n"
      ],
      "metadata": {
        "id": "cLXCgpaX6HNO"
      },
      "execution_count": 50,
      "outputs": []
    },
    {
      "cell_type": "code",
      "source": [
        "import sys\n",
        "sys.path.append('/content')  # 현재 디렉토리를 Python 경로에 추가\n",
        "import word  # 이제 word.py를 import\n"
      ],
      "metadata": {
        "id": "Y_SJUGCk5i0-"
      },
      "execution_count": 51,
      "outputs": []
    },
    {
      "cell_type": "code",
      "source": [
        "!ls # 파일 이름을 다시 확인, 디렉토리 내 파일을 출력해 확인\n"
      ],
      "metadata": {
        "colab": {
          "base_uri": "https://localhost:8080/"
        },
        "id": "lhHAN6JO6R-c",
        "outputId": "7ac44e82-7b7c-48b8-c5fc-cd5c7b61a992"
      },
      "execution_count": 52,
      "outputs": [
        {
          "output_type": "stream",
          "name": "stdout",
          "text": [
            "drive  __pycache__  sample_data  word.py\n"
          ]
        }
      ]
    },
    {
      "cell_type": "code",
      "source": [
        "#!cat word.py # 파일 내용 확인\n"
      ],
      "metadata": {
        "id": "xAuy7Kan6TVP"
      },
      "execution_count": 65,
      "outputs": []
    },
    {
      "cell_type": "code",
      "source": [
        "import random\n",
        "from google.colab import drive # 코렙에서 드라이브를 마운트한 후 경로를 지정해 import\n",
        "drive.mount('/content/drive')\n",
        "\n",
        "# 경로 추가\n",
        "import sys\n",
        "sys.path.append('/content/drive/My Drive/your_folder')  # 드라이브 내 폴더 경로\n",
        "import word  # word.py import\n",
        "\n",
        "\n",
        "def get_valid_word(words):\n",
        "  word = random.choice(words) #word에서 랜덤 선택\n",
        "  while '-' in word or ' ' in word:\n",
        "    word = random.choice(words)\n",
        "\n",
        "  return word\n",
        "\n",
        "def hangman():\n",
        "  word = get_valid_word(words)\n",
        "  word_letters = set(word) #letter in the word\n",
        "  alphabet = set(string.ascii_uppercase)\n",
        "  used_letters = set() #what the user has guessed\n",
        "\n",
        "  #getting user input\n",
        "  while len(word_letters) > 0:\n",
        "    #letters used\n",
        "    #' '.join(['a', 'b', 'cd']) --> 'a, b cd'\n",
        "    print('You have used these letters: ', ' '.join(used_letters))\n",
        "\n",
        "    #what current word is(is W - R D)\n",
        "    word_list = [letter if letter in used_letters else '-' for letter in word]\n",
        "    print('Current word: ', ' '.join(word_list))\n",
        "\n",
        "    user_letter = input('Guess a letter: ').upper()\n",
        "    if user_letter in alphabet - used_letters:\n",
        "      used_letters.add(user_letter)\n",
        "      if user_letter in word_letters:\n",
        "        word_letters.remove(user_letter)\n",
        "\n",
        "    elif user_letter in used_letters:\n",
        "      print('You have already used that character. Please try again.')\n",
        "\n",
        "    else:\n",
        "      print('Invalid character. Please try again.')\n",
        "\n",
        "  #gets here when len(word_letters) == 0\n",
        "\n",
        "#user_input = input('Type something: ')\n",
        "#print(user_input)\n",
        "\n",
        "hangman()\n",
        "\n",
        "\n",
        "\n",
        "\n"
      ],
      "metadata": {
        "id": "KvEFb57QAwdK",
        "colab": {
          "base_uri": "https://localhost:8080/",
          "height": 408
        },
        "outputId": "68b3d8d0-50cb-46b6-fabb-2b854cb24cd0"
      },
      "execution_count": 64,
      "outputs": [
        {
          "output_type": "stream",
          "name": "stdout",
          "text": [
            "Drive already mounted at /content/drive; to attempt to forcibly remount, call drive.mount(\"/content/drive\", force_remount=True).\n"
          ]
        },
        {
          "output_type": "error",
          "ename": "KeyError",
          "evalue": "0",
          "traceback": [
            "\u001b[0;31m---------------------------------------------------------------------------\u001b[0m",
            "\u001b[0;31mKeyError\u001b[0m                                  Traceback (most recent call last)",
            "\u001b[0;32m<ipython-input-64-e1ceeac7a415>\u001b[0m in \u001b[0;36m<cell line: 51>\u001b[0;34m()\u001b[0m\n\u001b[1;32m     49\u001b[0m \u001b[0;31m#print(user_input)\u001b[0m\u001b[0;34m\u001b[0m\u001b[0;34m\u001b[0m\u001b[0m\n\u001b[1;32m     50\u001b[0m \u001b[0;34m\u001b[0m\u001b[0m\n\u001b[0;32m---> 51\u001b[0;31m \u001b[0mhangman\u001b[0m\u001b[0;34m(\u001b[0m\u001b[0;34m)\u001b[0m\u001b[0;34m\u001b[0m\u001b[0;34m\u001b[0m\u001b[0m\n\u001b[0m\u001b[1;32m     52\u001b[0m \u001b[0;34m\u001b[0m\u001b[0m\n\u001b[1;32m     53\u001b[0m \u001b[0;34m\u001b[0m\u001b[0m\n",
            "\u001b[0;32m<ipython-input-64-e1ceeac7a415>\u001b[0m in \u001b[0;36mhangman\u001b[0;34m()\u001b[0m\n\u001b[1;32m     17\u001b[0m \u001b[0;34m\u001b[0m\u001b[0m\n\u001b[1;32m     18\u001b[0m \u001b[0;32mdef\u001b[0m \u001b[0mhangman\u001b[0m\u001b[0;34m(\u001b[0m\u001b[0;34m)\u001b[0m\u001b[0;34m:\u001b[0m\u001b[0;34m\u001b[0m\u001b[0;34m\u001b[0m\u001b[0m\n\u001b[0;32m---> 19\u001b[0;31m   \u001b[0mword\u001b[0m \u001b[0;34m=\u001b[0m \u001b[0mget_valid_word\u001b[0m\u001b[0;34m(\u001b[0m\u001b[0mwords\u001b[0m\u001b[0;34m)\u001b[0m\u001b[0;34m\u001b[0m\u001b[0;34m\u001b[0m\u001b[0m\n\u001b[0m\u001b[1;32m     20\u001b[0m   \u001b[0mword_letters\u001b[0m \u001b[0;34m=\u001b[0m \u001b[0mset\u001b[0m\u001b[0;34m(\u001b[0m\u001b[0mword\u001b[0m\u001b[0;34m)\u001b[0m \u001b[0;31m#letter in the word\u001b[0m\u001b[0;34m\u001b[0m\u001b[0;34m\u001b[0m\u001b[0m\n\u001b[1;32m     21\u001b[0m   \u001b[0malphabet\u001b[0m \u001b[0;34m=\u001b[0m \u001b[0mset\u001b[0m\u001b[0;34m(\u001b[0m\u001b[0mstring\u001b[0m\u001b[0;34m.\u001b[0m\u001b[0mascii_uppercase\u001b[0m\u001b[0;34m)\u001b[0m\u001b[0;34m\u001b[0m\u001b[0;34m\u001b[0m\u001b[0m\n",
            "\u001b[0;32m<ipython-input-64-e1ceeac7a415>\u001b[0m in \u001b[0;36mget_valid_word\u001b[0;34m(words)\u001b[0m\n\u001b[1;32m     10\u001b[0m \u001b[0;34m\u001b[0m\u001b[0m\n\u001b[1;32m     11\u001b[0m \u001b[0;32mdef\u001b[0m \u001b[0mget_valid_word\u001b[0m\u001b[0;34m(\u001b[0m\u001b[0mwords\u001b[0m\u001b[0;34m)\u001b[0m\u001b[0;34m:\u001b[0m\u001b[0;34m\u001b[0m\u001b[0;34m\u001b[0m\u001b[0m\n\u001b[0;32m---> 12\u001b[0;31m   \u001b[0mword\u001b[0m \u001b[0;34m=\u001b[0m \u001b[0mrandom\u001b[0m\u001b[0;34m.\u001b[0m\u001b[0mchoice\u001b[0m\u001b[0;34m(\u001b[0m\u001b[0mwords\u001b[0m\u001b[0;34m)\u001b[0m \u001b[0;31m#word에서 랜덤 선택\u001b[0m\u001b[0;34m\u001b[0m\u001b[0;34m\u001b[0m\u001b[0m\n\u001b[0m\u001b[1;32m     13\u001b[0m   \u001b[0;32mwhile\u001b[0m \u001b[0;34m'-'\u001b[0m \u001b[0;32min\u001b[0m \u001b[0mword\u001b[0m \u001b[0;32mor\u001b[0m \u001b[0;34m' '\u001b[0m \u001b[0;32min\u001b[0m \u001b[0mword\u001b[0m\u001b[0;34m:\u001b[0m\u001b[0;34m\u001b[0m\u001b[0;34m\u001b[0m\u001b[0m\n\u001b[1;32m     14\u001b[0m     \u001b[0mword\u001b[0m \u001b[0;34m=\u001b[0m \u001b[0mrandom\u001b[0m\u001b[0;34m.\u001b[0m\u001b[0mchoice\u001b[0m\u001b[0;34m(\u001b[0m\u001b[0mwords\u001b[0m\u001b[0;34m)\u001b[0m\u001b[0;34m\u001b[0m\u001b[0;34m\u001b[0m\u001b[0m\n",
            "\u001b[0;32m/usr/lib/python3.10/random.py\u001b[0m in \u001b[0;36mchoice\u001b[0;34m(self, seq)\u001b[0m\n\u001b[1;32m    376\u001b[0m         \u001b[0;34m\"\"\"Choose a random element from a non-empty sequence.\"\"\"\u001b[0m\u001b[0;34m\u001b[0m\u001b[0;34m\u001b[0m\u001b[0m\n\u001b[1;32m    377\u001b[0m         \u001b[0;31m# raises IndexError if seq is empty\u001b[0m\u001b[0;34m\u001b[0m\u001b[0;34m\u001b[0m\u001b[0m\n\u001b[0;32m--> 378\u001b[0;31m         \u001b[0;32mreturn\u001b[0m \u001b[0mseq\u001b[0m\u001b[0;34m[\u001b[0m\u001b[0mself\u001b[0m\u001b[0;34m.\u001b[0m\u001b[0m_randbelow\u001b[0m\u001b[0;34m(\u001b[0m\u001b[0mlen\u001b[0m\u001b[0;34m(\u001b[0m\u001b[0mseq\u001b[0m\u001b[0;34m)\u001b[0m\u001b[0;34m)\u001b[0m\u001b[0;34m]\u001b[0m\u001b[0;34m\u001b[0m\u001b[0;34m\u001b[0m\u001b[0m\n\u001b[0m\u001b[1;32m    379\u001b[0m \u001b[0;34m\u001b[0m\u001b[0m\n\u001b[1;32m    380\u001b[0m     \u001b[0;32mdef\u001b[0m \u001b[0mshuffle\u001b[0m\u001b[0;34m(\u001b[0m\u001b[0mself\u001b[0m\u001b[0;34m,\u001b[0m \u001b[0mx\u001b[0m\u001b[0;34m,\u001b[0m \u001b[0mrandom\u001b[0m\u001b[0;34m=\u001b[0m\u001b[0;32mNone\u001b[0m\u001b[0;34m)\u001b[0m\u001b[0;34m:\u001b[0m\u001b[0;34m\u001b[0m\u001b[0;34m\u001b[0m\u001b[0m\n",
            "\u001b[0;31mKeyError\u001b[0m: 0"
          ]
        }
      ]
    },
    {
      "cell_type": "markdown",
      "source": [
        "#6. Coundown Timer"
      ],
      "metadata": {
        "id": "LLvXHMzKAw89"
      }
    },
    {
      "cell_type": "code",
      "source": [],
      "metadata": {
        "id": "UBBxs6Nmy4G1"
      },
      "execution_count": null,
      "outputs": []
    }
  ]
}